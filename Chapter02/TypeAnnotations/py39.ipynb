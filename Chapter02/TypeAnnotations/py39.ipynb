{
 "cells": [
  {
   "cell_type": "code",
   "execution_count": 1,
   "metadata": {},
   "outputs": [],
   "source": [
    "from typing import Dict\n",
    "from typing import List\n",
    "from typing import Tuple"
   ]
  },
  {
   "cell_type": "markdown",
   "metadata": {},
   "source": [
    "### Python 3.9 Type Annotations Changes\n"
   ]
  },
  {
   "cell_type": "code",
   "execution_count": 2,
   "metadata": {},
   "outputs": [],
   "source": [
    "def f11(lst: List[int]) -> None:\n",
    "    print(lst)\n",
    "\n",
    "\n",
    "def f21(dct: Dict) -> None:\n",
    "    print(dct)\n",
    "\n",
    "\n",
    "def f31(tpl: Tuple) -> None:\n",
    "    print(tpl)"
   ]
  },
  {
   "cell_type": "markdown",
   "metadata": {},
   "source": [
    "^ Pre 3.9\n",
    "\n",
    "List[X] -> list[x]  \n",
    "Tuple[X] -> tuple[x]  \n",
    "Dict[X, >] -> dict[x, y]\n",
    "\n",
    "v Since 3.9\n"
   ]
  },
  {
   "cell_type": "code",
   "execution_count": 3,
   "metadata": {},
   "outputs": [],
   "source": [
    "def f12(lst: list[int]) -> None:\n",
    "    print(lst)\n",
    "\n",
    "\n",
    "def f22(dct: dict) -> None:\n",
    "    print(dct)\n",
    "\n",
    "\n",
    "def f32(tpl: tuple) -> None:\n",
    "    print(tpl)"
   ]
  }
 ],
 "metadata": {
  "kernelspec": {
   "display_name": "tensorflow",
   "language": "python",
   "name": "python3"
  },
  "language_info": {
   "codemirror_mode": {
    "name": "ipython",
    "version": 3
   },
   "file_extension": ".py",
   "mimetype": "text/x-python",
   "name": "python",
   "nbconvert_exporter": "python",
   "pygments_lexer": "ipython3",
   "version": "3.12.0"
  },
  "orig_nbformat": 4,
  "vscode": {
   "interpreter": {
    "hash": "4a530a401827db55b3b32bddb74ef9c27b80cabc6fe7a20ea91ce98fce4eade3"
   }
  }
 },
 "nbformat": 4,
 "nbformat_minor": 2
}

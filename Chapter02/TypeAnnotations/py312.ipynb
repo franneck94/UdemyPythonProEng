{
 "cells": [
  {
   "cell_type": "markdown",
   "metadata": {},
   "source": [
    "## Python 3.12 Features\n"
   ]
  },
  {
   "cell_type": "code",
   "execution_count": 1,
   "metadata": {},
   "outputs": [],
   "source": [
    "from typing import TypeVar\n",
    "\n",
    "\n",
    "T = TypeVar(\"T\")\n",
    "\n",
    "\n",
    "def min1(a: T, b: T) -> T:\n",
    "    return a if a < b else b\n"
   ]
  },
  {
   "cell_type": "markdown",
   "metadata": {},
   "source": [
    "^ Pre 3.12\n",
    "\n",
    "v Since 3.12\n"
   ]
  },
  {
   "cell_type": "code",
   "execution_count": 2,
   "metadata": {},
   "outputs": [],
   "source": [
    "def min2[T](a: T, b: T) -> T:\n",
    "    return a if a < b else b\n"
   ]
  },
  {
   "cell_type": "code",
   "execution_count": 3,
   "metadata": {},
   "outputs": [],
   "source": [
    "from typing import Generic\n",
    "from typing import TypeVar\n",
    "\n",
    "\n",
    "T2_co = TypeVar(\"T2_co\", covariant=True)\n",
    "\n",
    "\n",
    "class MyClass1(Generic[T2_co]):\n",
    "    def __init__(self, d: T2_co) -> None:\n",
    "        self.d = d\n"
   ]
  },
  {
   "cell_type": "markdown",
   "metadata": {},
   "source": [
    "^ Pre 3.12\n",
    "\n",
    "v Since 3.12\n"
   ]
  },
  {
   "cell_type": "code",
   "execution_count": 4,
   "metadata": {},
   "outputs": [],
   "source": [
    "class MyClass2[T3]:\n",
    "    def __init__(self, d: T3) -> None:\n",
    "        self.d = d\n"
   ]
  },
  {
   "cell_type": "markdown",
   "metadata": {},
   "source": [
    "### Type Alias\n"
   ]
  },
  {
   "cell_type": "code",
   "execution_count": 5,
   "metadata": {},
   "outputs": [],
   "source": [
    "class Expected[T, Err]:\n",
    "    ...\n",
    "\n",
    "\n",
    "type IntOrErrCode = Expected[int, str]\n",
    "type ResultOrErrCode = Expected[T, str]\n"
   ]
  },
  {
   "cell_type": "markdown",
   "metadata": {},
   "source": [
    "### TypedDict for kwargs\n"
   ]
  },
  {
   "cell_type": "code",
   "execution_count": 6,
   "metadata": {},
   "outputs": [],
   "source": [
    "def f1(**kwargs: bool | float) -> None:  # noqa\n",
    "    pass\n"
   ]
  },
  {
   "cell_type": "markdown",
   "metadata": {},
   "source": [
    "^ Pre 3.12\n",
    "\n",
    "v Since 3.12\n"
   ]
  },
  {
   "cell_type": "code",
   "execution_count": 7,
   "metadata": {},
   "outputs": [],
   "source": [
    "from typing import TypedDict\n",
    "from typing import Unpack\n",
    "\n",
    "\n",
    "class Data(TypedDict):\n",
    "    verbose: bool\n",
    "    size: float\n",
    "\n",
    "\n",
    "def f2(**kwargs: Unpack[Data]) -> None:  # noqa\n",
    "    pass\n"
   ]
  },
  {
   "cell_type": "code",
   "execution_count": null,
   "metadata": {},
   "outputs": [],
   "source": [
    "f2(verbose=True, size=10.0)\n",
    "f2(verbose=True, size=10)\n",
    "\n",
    "kwargs = {\"verbose\": True, \"size\": 10.0}\n",
    "f2(**kwargs)\n",
    "kwargs2 = {\"verbose\": True, \"s\": 10}\n",
    "f2(**kwargs2)\n"
   ]
  }
 ],
 "metadata": {
  "kernelspec": {
   "display_name": "py312",
   "language": "python",
   "name": "python3"
  },
  "language_info": {
   "codemirror_mode": {
    "name": "ipython",
    "version": 3
   },
   "file_extension": ".py",
   "mimetype": "text/x-python",
   "name": "python",
   "nbconvert_exporter": "python",
   "pygments_lexer": "ipython3",
   "version": "3.12.0"
  }
 },
 "nbformat": 4,
 "nbformat_minor": 2
}

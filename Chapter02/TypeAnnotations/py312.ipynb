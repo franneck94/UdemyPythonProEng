{
 "cells": [
  {
   "cell_type": "markdown",
   "metadata": {},
   "source": [
    "## Python 3.12 Features\n"
   ]
  },
  {
   "cell_type": "code",
   "execution_count": 8,
   "metadata": {},
   "outputs": [],
   "source": [
    "from typing import TypeVar\n",
    "\n",
    "\n",
    "T = TypeVar(\"T\")\n",
    "\n",
    "\n",
    "def min1(a: T, b: T) -> T:\n",
    "    return a if a < b else b"
   ]
  },
  {
   "cell_type": "markdown",
   "metadata": {},
   "source": [
    "^ Pre 3.12\n",
    "\n",
    "v Since 3.12\n"
   ]
  },
  {
   "cell_type": "code",
   "execution_count": 9,
   "metadata": {},
   "outputs": [],
   "source": [
    "def min2[T](a: T, b: T) -> T:\n",
    "    return a if a < b else b"
   ]
  },
  {
   "cell_type": "code",
   "execution_count": 10,
   "metadata": {},
   "outputs": [],
   "source": [
    "from typing import Generic\n",
    "from typing import TypeVar\n",
    "\n",
    "\n",
    "T2_co = TypeVar(\"T2_co\", covariant=True)\n",
    "\n",
    "\n",
    "class MyClass1(Generic[T2_co]):\n",
    "    def __init__(self, d: T2_co) -> None:\n",
    "        self.d = d"
   ]
  },
  {
   "cell_type": "markdown",
   "metadata": {},
   "source": [
    "^ Pre 3.12\n",
    "\n",
    "v Since 3.12\n"
   ]
  },
  {
   "cell_type": "code",
   "execution_count": 11,
   "metadata": {},
   "outputs": [],
   "source": [
    "class MyClass2[T3]:\n",
    "    def __init__(self, d: T3) -> None:\n",
    "        self.d = d"
   ]
  },
  {
   "cell_type": "markdown",
   "metadata": {},
   "source": [
    "### Type Alias\n"
   ]
  },
  {
   "cell_type": "code",
   "execution_count": 12,
   "metadata": {},
   "outputs": [],
   "source": [
    "class Expected[T, Err]:\n",
    "    ...\n",
    "\n",
    "\n",
    "type IntOrErrCode = Expected[int, str]\n",
    "type ResultOrErrCode = Expected[T, str]"
   ]
  },
  {
   "cell_type": "markdown",
   "metadata": {},
   "source": [
    "### TypedDict for kwargs\n"
   ]
  },
  {
   "cell_type": "code",
   "execution_count": 13,
   "metadata": {},
   "outputs": [],
   "source": [
    "def f1(**kwargs: bool | float) -> None:  # noqa\n",
    "    pass"
   ]
  },
  {
   "cell_type": "markdown",
   "metadata": {},
   "source": [
    "^ Pre 3.12\n",
    "\n",
    "v Since 3.12\n"
   ]
  },
  {
   "cell_type": "code",
   "execution_count": 14,
   "metadata": {},
   "outputs": [],
   "source": [
    "from typing import TypedDict\n",
    "from typing import Unpack\n",
    "\n",
    "\n",
    "class Data(TypedDict):\n",
    "    verbose: bool\n",
    "    size: float\n",
    "\n",
    "\n",
    "def f2(**kwargs: Unpack[Data]) -> None:  # noqa\n",
    "    pass"
   ]
  }
 ],
 "metadata": {
  "kernelspec": {
   "display_name": "py312",
   "language": "python",
   "name": "python3"
  },
  "language_info": {
   "codemirror_mode": {
    "name": "ipython",
    "version": 3
   },
   "file_extension": ".py",
   "mimetype": "text/x-python",
   "name": "python",
   "nbconvert_exporter": "python",
   "pygments_lexer": "ipython3",
   "version": "3.12.0"
  }
 },
 "nbformat": 4,
 "nbformat_minor": 2
}

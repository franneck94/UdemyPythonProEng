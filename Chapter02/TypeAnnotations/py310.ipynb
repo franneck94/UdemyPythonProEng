{
 "cells": [
  {
   "cell_type": "code",
   "execution_count": 1,
   "metadata": {},
   "outputs": [],
   "source": [
    "from typing import Optional\n",
    "from typing import Union"
   ]
  },
  {
   "cell_type": "markdown",
   "metadata": {},
   "source": [
    "### Python 3.10 Type Annotations Changes\n"
   ]
  },
  {
   "cell_type": "code",
   "execution_count": 4,
   "metadata": {},
   "outputs": [],
   "source": [
    "def g1(container: Union[list, dict, tuple]) -> None:\n",
    "    print(len(container))\n",
    "\n",
    "\n",
    "def append_value1(\n",
    "    value: int,\n",
    "    my_list: Optional[list[int]] = None,\n",
    "    # my_list: Union[list[int], None] = None,\n",
    ") -> list[int]:\n",
    "    if my_list:\n",
    "        my_list.append(value)\n",
    "    else:\n",
    "        my_list = [value]\n",
    "    return my_list"
   ]
  },
  {
   "cell_type": "markdown",
   "metadata": {},
   "source": [
    "^ Pre 3.10\n",
    "\n",
    "Union[X, Y] -> X | Y  \n",
    "Optional[X] -> X | None\n",
    "\n",
    "v Since 3.10\n"
   ]
  },
  {
   "cell_type": "code",
   "execution_count": 5,
   "metadata": {},
   "outputs": [],
   "source": [
    "def g2(container: list | dict | tuple) -> None:\n",
    "    print(len(container))\n",
    "\n",
    "\n",
    "def append_value2(\n",
    "    value: int,\n",
    "    my_list: list[int] | None = None,\n",
    ") -> list[int]:\n",
    "    if my_list:\n",
    "        my_list.append(value)\n",
    "    else:\n",
    "        my_list = [value]\n",
    "    return my_list"
   ]
  },
  {
   "cell_type": "markdown",
   "metadata": {},
   "source": [
    "### PEP 604: New Type Union Operator\n"
   ]
  },
  {
   "cell_type": "code",
   "execution_count": 6,
   "metadata": {},
   "outputs": [
    {
     "data": {
      "text/plain": [
       "True"
      ]
     },
     "execution_count": 6,
     "metadata": {},
     "output_type": "execute_result"
    }
   ],
   "source": [
    "isinstance(1, int | str)"
   ]
  },
  {
   "cell_type": "code",
   "execution_count": 7,
   "metadata": {},
   "outputs": [
    {
     "data": {
      "text/plain": [
       "True"
      ]
     },
     "execution_count": 7,
     "metadata": {},
     "output_type": "execute_result"
    }
   ],
   "source": [
    "issubclass(bool, int | str)"
   ]
  }
 ],
 "metadata": {
  "kernelspec": {
   "display_name": "tensorflow",
   "language": "python",
   "name": "python3"
  },
  "language_info": {
   "codemirror_mode": {
    "name": "ipython",
    "version": 3
   },
   "file_extension": ".py",
   "mimetype": "text/x-python",
   "name": "python",
   "nbconvert_exporter": "python",
   "pygments_lexer": "ipython3",
   "version": "3.11.5"
  },
  "orig_nbformat": 4,
  "vscode": {
   "interpreter": {
    "hash": "4a530a401827db55b3b32bddb74ef9c27b80cabc6fe7a20ea91ce98fce4eade3"
   }
  }
 },
 "nbformat": 4,
 "nbformat_minor": 2
}

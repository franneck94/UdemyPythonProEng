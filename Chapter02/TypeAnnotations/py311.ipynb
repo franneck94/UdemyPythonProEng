{
 "cells": [
  {
   "cell_type": "markdown",
   "metadata": {},
   "source": [
    "## Python 3.11 Features\n"
   ]
  },
  {
   "cell_type": "code",
   "execution_count": 1,
   "metadata": {},
   "outputs": [],
   "source": [
    "from typing import Generic\n",
    "from typing import NewType\n",
    "from typing import TypeVar\n",
    "from typing import TypeVarTuple"
   ]
  },
  {
   "cell_type": "code",
   "execution_count": 2,
   "metadata": {},
   "outputs": [],
   "source": [
    "T = TypeVar(\"T\")\n",
    "Shape = TypeVarTuple(\"Shape\")"
   ]
  },
  {
   "cell_type": "code",
   "execution_count": 3,
   "metadata": {},
   "outputs": [],
   "source": [
    "class Array(Generic[T, *Shape]):\n",
    "    ..."
   ]
  },
  {
   "cell_type": "code",
   "execution_count": 4,
   "metadata": {},
   "outputs": [],
   "source": [
    "Height = NewType(\"Height\", int)\n",
    "Width = NewType(\"Width\", int)\n",
    "Channels = NewType(\"Channels\", int)"
   ]
  },
  {
   "cell_type": "code",
   "execution_count": 5,
   "metadata": {},
   "outputs": [],
   "source": [
    "def f(arr: Array[float, Height, Width, Channels]):\n",
    "    print(arr)"
   ]
  },
  {
   "cell_type": "code",
   "execution_count": 6,
   "metadata": {},
   "outputs": [
    {
     "name": "stdout",
     "output_type": "stream",
     "text": [
      "<__main__.Array object at 0x000001FDE49E2B70>\n"
     ]
    }
   ],
   "source": [
    "arr = Array[float, 100, 100, 3]()\n",
    "\n",
    "f(arr)"
   ]
  },
  {
   "cell_type": "markdown",
   "metadata": {},
   "source": [
    "#### Literal String\n"
   ]
  },
  {
   "cell_type": "code",
   "execution_count": 7,
   "metadata": {},
   "outputs": [],
   "source": [
    "from typing import LiteralString\n",
    "\n",
    "\n",
    "s1: str = \"Jan\"\n",
    "s2: LiteralString = \"Jan\"\n",
    "\n",
    "s3 = \"Jan\"\n",
    "n1 = 10"
   ]
  }
 ],
 "metadata": {
  "kernelspec": {
   "display_name": "py312",
   "language": "python",
   "name": "python3"
  },
  "language_info": {
   "codemirror_mode": {
    "name": "ipython",
    "version": 3
   },
   "file_extension": ".py",
   "mimetype": "text/x-python",
   "name": "python",
   "nbconvert_exporter": "python",
   "pygments_lexer": "ipython3",
   "version": "3.12.0"
  }
 },
 "nbformat": 4,
 "nbformat_minor": 2
}

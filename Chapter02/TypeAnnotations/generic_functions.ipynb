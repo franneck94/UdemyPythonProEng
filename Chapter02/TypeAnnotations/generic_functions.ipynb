{
 "cells": [
  {
   "cell_type": "code",
   "execution_count": 10,
   "metadata": {},
   "outputs": [],
   "source": [
    "from typing import Protocol\n",
    "from typing import TypeVar\n"
   ]
  },
  {
   "cell_type": "markdown",
   "metadata": {},
   "source": [
    "### Generic Functions\n"
   ]
  },
  {
   "cell_type": "code",
   "execution_count": 11,
   "metadata": {},
   "outputs": [],
   "source": [
    "T1 = TypeVar(\"T1\")\n"
   ]
  },
  {
   "cell_type": "code",
   "execution_count": 12,
   "metadata": {},
   "outputs": [],
   "source": [
    "def repeat(x: T1, n: int) -> list[T1]:\n",
    "    return [x] * n\n"
   ]
  },
  {
   "cell_type": "code",
   "execution_count": 13,
   "metadata": {},
   "outputs": [
    {
     "name": "stdout",
     "output_type": "stream",
     "text": [
      "[1.0, 1.0, 1.0, 1.0, 1.0]\n",
      "[1, 1, 1, 1, 1]\n",
      "[None, None, None, None, None]\n"
     ]
    }
   ],
   "source": [
    "res1 = repeat(1.0, 5)\n",
    "print(res1)\n",
    "\n",
    "res2 = repeat(1, 5)\n",
    "print(res2)\n",
    "\n",
    "res3 = repeat(None, 5)\n",
    "print(res3)\n"
   ]
  },
  {
   "cell_type": "markdown",
   "metadata": {},
   "source": [
    "### Bounding\n"
   ]
  },
  {
   "cell_type": "code",
   "execution_count": 14,
   "metadata": {},
   "outputs": [],
   "source": [
    "class SizedProtocol(Protocol):\n",
    "    def __len__(self) -> int:\n",
    "        ...\n"
   ]
  },
  {
   "cell_type": "code",
   "execution_count": 15,
   "metadata": {},
   "outputs": [],
   "source": [
    "T2 = TypeVar(\"T2\", bound=SizedProtocol)\n"
   ]
  },
  {
   "cell_type": "code",
   "execution_count": 16,
   "metadata": {},
   "outputs": [],
   "source": [
    "def longest(x: T2, y: T2) -> T2:\n",
    "    return x if len(x) >= len(y) else y\n"
   ]
  },
  {
   "cell_type": "code",
   "execution_count": 17,
   "metadata": {},
   "outputs": [
    {
     "name": "stdout",
     "output_type": "stream",
     "text": [
      "Jan\n"
     ]
    }
   ],
   "source": [
    "print(longest(\"Jan\", \"Ja\"))\n"
   ]
  },
  {
   "cell_type": "code",
   "execution_count": 18,
   "metadata": {},
   "outputs": [
    {
     "name": "stdout",
     "output_type": "stream",
     "text": [
      "Jan\n"
     ]
    }
   ],
   "source": [
    "from collections.abc import Sized\n",
    "\n",
    "\n",
    "T3 = TypeVar(\"T3\", bound=Sized)\n",
    "\n",
    "\n",
    "def longest2(x: T2, y: T2) -> T2:\n",
    "    return x if len(x) >= len(y) else y\n",
    "\n",
    "\n",
    "print(longest2(\"Jan\", \"Ja\"))\n"
   ]
  }
 ],
 "metadata": {
  "kernelspec": {
   "display_name": "pyUdemy",
   "language": "python",
   "name": "python3"
  },
  "language_info": {
   "codemirror_mode": {
    "name": "ipython",
    "version": 3
   },
   "file_extension": ".py",
   "mimetype": "text/x-python",
   "name": "python",
   "nbconvert_exporter": "python",
   "pygments_lexer": "ipython3",
   "version": "3.11.5"
  }
 },
 "nbformat": 4,
 "nbformat_minor": 2
}

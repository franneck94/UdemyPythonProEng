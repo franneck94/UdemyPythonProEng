{
 "cells": [
  {
   "cell_type": "code",
   "execution_count": 1,
   "metadata": {},
   "outputs": [],
   "source": [
    "from collections.abc import Callable\n",
    "from typing import Any\n",
    "from typing import ParamSpec\n",
    "from typing import TypeGuard"
   ]
  },
  {
   "cell_type": "markdown",
   "metadata": {},
   "source": [
    "#### ParamSpec\n"
   ]
  },
  {
   "cell_type": "code",
   "execution_count": 2,
   "metadata": {},
   "outputs": [],
   "source": [
    "def outer(\n",
    "    inner: Callable[..., int],\n",
    ") -> Callable[..., int]:\n",
    "    def wrapper(*args: Any, **kwargs: Any) -> int:\n",
    "        return inner(args, kwargs)\n",
    "\n",
    "    return wrapper"
   ]
  },
  {
   "cell_type": "code",
   "execution_count": 3,
   "metadata": {},
   "outputs": [],
   "source": [
    "P = ParamSpec(\"P\")"
   ]
  },
  {
   "cell_type": "code",
   "execution_count": 4,
   "metadata": {},
   "outputs": [],
   "source": [
    "def outer2(\n",
    "    inner: Callable[P, int],\n",
    ") -> Callable[P, int]:\n",
    "    def wrapper(*args: P.args, **kwargs: P.kwargs) -> int:\n",
    "        return inner(args, kwargs)\n",
    "\n",
    "    return wrapper"
   ]
  },
  {
   "cell_type": "markdown",
   "metadata": {},
   "source": [
    "#### TypeGuard\n"
   ]
  },
  {
   "cell_type": "code",
   "execution_count": 5,
   "metadata": {},
   "outputs": [],
   "source": [
    "def is_str_list(\n",
    "    lst: list[object],\n",
    ") -> TypeGuard[list[str]]:\n",
    "    return all(isinstance(s, str) for s in lst)"
   ]
  },
  {
   "cell_type": "code",
   "execution_count": 6,
   "metadata": {},
   "outputs": [],
   "source": [
    "def try_print_list(\n",
    "    lst: list[object],\n",
    ") -> None:\n",
    "    if is_str_list(lst):\n",
    "        print(lst)"
   ]
  }
 ],
 "metadata": {
  "kernelspec": {
   "display_name": "tensorflow",
   "language": "python",
   "name": "python3"
  },
  "language_info": {
   "codemirror_mode": {
    "name": "ipython",
    "version": 3
   },
   "file_extension": ".py",
   "mimetype": "text/x-python",
   "name": "python",
   "nbconvert_exporter": "python",
   "pygments_lexer": "ipython3",
   "version": "3.11.5"
  },
  "orig_nbformat": 4,
  "vscode": {
   "interpreter": {
    "hash": "4a530a401827db55b3b32bddb74ef9c27b80cabc6fe7a20ea91ce98fce4eade3"
   }
  }
 },
 "nbformat": 4,
 "nbformat_minor": 2
}
